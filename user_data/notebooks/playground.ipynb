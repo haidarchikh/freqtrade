{
 "cells": [
  {
   "cell_type": "markdown",
   "metadata": {},
   "source": [
    "# Strategy analysis example\n",
    "\n",
    "Debugging a strategy can be time-consuming. Freqtrade offers helper functions to visualize raw data.\n",
    "The following assumes you work with SampleStrategy, data for 5m timeframe from Binance and have downloaded them into the data directory in the default location."
   ]
  },
  {
   "cell_type": "markdown",
   "metadata": {},
   "source": [
    "## Setup"
   ]
  },
  {
   "cell_type": "code",
   "execution_count": null,
   "metadata": {},
   "outputs": [],
   "source": [
    "import pandas as pd\n",
    "\n",
    "\n",
    "# Step 1: Create a sample DataFrame\n",
    "data = {\n",
    "    \"date\": pd.date_range(start=\"2024-06-01\", periods=10, freq=\"D\"),  # 10 days of data\n",
    "    \"close\": [100, 102, 101, 105, 107, 110, 115, 117, 120, 125],  # Simulated 'close' prices\n",
    "}\n",
    "df = pd.DataFrame(data)\n",
    "\n",
    "# Display the initial DataFrame\n",
    "print(\"Original DataFrame:\")\n",
    "print(df)\n",
    "\n",
    "# Step 2: Add shifted 'close' column to simulate 'future' values\n",
    "shift_period = -2  # Negative shift moves rows upward (future values)\n",
    "df[\"shifted_close\"] = df[\"close\"].shift(shift_period)\n",
    "print(\"\\nDataFrame with Shifted Close (Future Prices):\")\n",
    "print(df)\n",
    "\n",
    "# Step 3: Calculate rolling mean of 'close' prices\n",
    "rolling_window = 3  # Rolling window size\n",
    "df[\"rolling_mean\"] = df[\"close\"].rolling(rolling_window).mean()\n",
    "print(\"\\nDataFrame with Rolling Mean (Window = 3):\")\n",
    "print(df)\n",
    "\n",
    "# Step 4: Combine 'shift' and 'rolling' to calculate a target\n",
    "df[\"target\"] = df[\"rolling_mean\"] / df[\"close\"] - 1  # Percentage change\n",
    "print(\"\\nDataFrame with Calculated Target:\")\n",
    "print(df)\n",
    "\n",
    "# Optional: Inspect specific rows\n",
    "print(\"\\nInspect Specific Rows:\")\n",
    "print(df.loc[3:7, [\"date\", \"close\", \"shifted_close\", \"rolling_mean\", \"target\"]])"
   ]
  }
 ],
 "metadata": {
  "file_extension": ".py",
  "kernelspec": {
   "display_name": "Python 3 (ipykernel)",
   "language": "python",
   "name": "python3"
  },
  "language_info": {
   "codemirror_mode": {
    "name": "ipython",
    "version": 3
   },
   "file_extension": ".py",
   "mimetype": "text/x-python",
   "name": "python",
   "nbconvert_exporter": "python",
   "pygments_lexer": "ipython3",
   "version": "3.12.3"
  },
  "mimetype": "text/x-python",
  "name": "python",
  "npconvert_exporter": "python",
  "pygments_lexer": "ipython3",
  "toc": {
   "base_numbering": 1,
   "nav_menu": {},
   "number_sections": true,
   "sideBar": true,
   "skip_h1_title": false,
   "title_cell": "Table of Contents",
   "title_sidebar": "Contents",
   "toc_cell": false,
   "toc_position": {},
   "toc_section_display": true,
   "toc_window_display": false
  },
  "varInspector": {
   "cols": {
    "lenName": 16,
    "lenType": 16,
    "lenVar": 40
   },
   "kernels_config": {
    "python": {
     "delete_cmd_postfix": "",
     "delete_cmd_prefix": "del ",
     "library": "var_list.py",
     "varRefreshCmd": "print(var_dic_list())"
    },
    "r": {
     "delete_cmd_postfix": ") ",
     "delete_cmd_prefix": "rm(",
     "library": "var_list.r",
     "varRefreshCmd": "cat(var_dic_list()) "
    }
   },
   "types_to_exclude": [
    "module",
    "function",
    "builtin_function_or_method",
    "instance",
    "_Feature"
   ],
   "window_display": false
  },
  "version": 3
 },
 "nbformat": 4,
 "nbformat_minor": 4
}
