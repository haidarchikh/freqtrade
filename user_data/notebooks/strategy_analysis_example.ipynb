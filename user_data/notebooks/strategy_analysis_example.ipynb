{
 "cells": [
  {
   "cell_type": "markdown",
   "metadata": {},
   "source": [
    "# Strategy analysis example\n",
    "\n",
    "Debugging a strategy can be time-consuming. Freqtrade offers helper functions to visualize raw data.\n",
    "The following assumes you work with SampleStrategy, data for 5m timeframe from Binance and have downloaded them into the data directory in the default location."
   ]
  },
  {
   "cell_type": "markdown",
   "metadata": {},
   "source": [
    "## Setup"
   ]
  },
  {
   "cell_type": "code",
   "execution_count": null,
   "metadata": {},
   "outputs": [],
   "source": [
    "import os\n",
    "from pathlib import Path\n",
    "\n",
    "\n",
    "# Change directory\n",
    "# Modify this cell to insure that the output shows the correct path.\n",
    "# Define all paths relative to the project root shown in the cell output\n",
    "project_root = \"/freqtrade\"\n",
    "i = 0\n",
    "try:\n",
    "    os.chdir(project_root)\n",
    "    if not Path(\"LICENSE\").is_file():\n",
    "        raise FileNotFoundError(\"LICENSE file not found\")\n",
    "\n",
    "    while i < 4 and (not Path(\"LICENSE\").is_file()):\n",
    "        os.chdir(Path(Path.cwd(), \"../\"))\n",
    "        i += 1\n",
    "    project_root = Path.cwd()\n",
    "    print(Path.cwd())\n",
    "except FileNotFoundError:\n",
    "    print(\"Failed to change directory. Please define the project root in the next cell.\")\n",
    "    project_root = None"
   ]
  },
  {
   "cell_type": "code",
   "execution_count": null,
   "metadata": {},
   "outputs": [],
   "source": [
    "import pprint\n",
    "\n",
    "import nest_asyncio\n",
    "\n",
    "from freqtrade.configuration import Configuration\n",
    "from freqtrade.data.dataprovider import DataProvider\n",
    "from freqtrade.plugins.pairlistmanager import PairListManager\n",
    "from freqtrade.resolvers import ExchangeResolver\n",
    "\n",
    "\n",
    "pp = pprint.PrettyPrinter(indent=2)\n",
    "\n",
    "nest_asyncio.apply()\n",
    "\n",
    "# Initialize empty configuration object\n",
    "config = Configuration.from_files([\"user_data/config.json\"])\n",
    "\n",
    "exchange = ExchangeResolver.load_exchange(config=config, validate=True)\n",
    "pairlist = PairListManager(exchange, config)\n",
    "dataprovider = DataProvider(config, exchange, pairlist)\n",
    "print(\"white-list\", pairlist.whitelist)\n",
    "print(\"black-list\", pairlist.blacklist)"
   ]
  },
  {
   "cell_type": "code",
   "execution_count": null,
   "metadata": {},
   "outputs": [],
   "source": [
    "# Load data using values set above\n",
    "from freqtrade.data.history import load_pair_history\n",
    "from freqtrade.enums import CandleType\n",
    "\n",
    "\n",
    "pair = \"BTC/USDT:USDT\"\n",
    "datadir = config[\"datadir\"]\n",
    "\n",
    "candles = load_pair_history(\n",
    "    datadir=datadir,\n",
    "    timeframe=config[\"timeframe\"],\n",
    "    pair=pair,\n",
    "    data_format=\"feather\",\n",
    "    candle_type=CandleType.FUTURES,\n",
    ")\n",
    "\n",
    "# Confirm success\n",
    "print(\"Loaded \" + str(len(candles)) + f\" rows of data for {pair} from {datadir}\")\n",
    "candles.head()"
   ]
  },
  {
   "cell_type": "markdown",
   "metadata": {},
   "source": [
    "## Load and run strategy\n",
    "* Rerun each time the strategy file is changed"
   ]
  },
  {
   "cell_type": "code",
   "execution_count": null,
   "metadata": {},
   "outputs": [],
   "source": [
    "# Load strategy using values set above\n",
    "from freqtrade.resolvers import StrategyResolver\n",
    "\n",
    "\n",
    "strategy = StrategyResolver.load_strategy(config)\n",
    "strategy.dp = dataprovider\n",
    "\n",
    "strategy.ft_bot_start()\n",
    "\n",
    "# Generate buy/sell signals using strategy\n",
    "df = strategy.analyze_ticker(candles, {\"pair\": pair})\n",
    "df.tail()"
   ]
  },
  {
   "cell_type": "markdown",
   "metadata": {},
   "source": [
    "## Load existing objects into a Jupyter notebook\n",
    "\n",
    "The following cells assume that you have already generated data using the cli.  \n",
    "They will allow you to drill deeper into your results, and perform analysis which otherwise would make the output very difficult to digest due to information overload."
   ]
  },
  {
   "cell_type": "markdown",
   "metadata": {},
   "source": [
    "### Load backtest results to pandas dataframe\n",
    "\n",
    "Analyze a trades dataframe (also used below for plotting)"
   ]
  },
  {
   "cell_type": "code",
   "execution_count": null,
   "metadata": {},
   "outputs": [],
   "source": [
    "from freqtrade.data.btanalysis import load_backtest_stats\n",
    "\n",
    "\n",
    "# You can get the full backtest statistics by using the following command.\n",
    "# This contains all information used to generate the backtest result.\n",
    "backtest_dir = \"user_data/backtest_results\"\n",
    "strategy = config[\"strategy\"]\n",
    "stats = load_backtest_stats(backtest_dir)\n",
    "\n",
    "# All statistics are available per strategy, so if `--strategy-list` was used during backtest, this\n",
    "# will be reflected here as well.\n",
    "# Example usages:\n",
    "pp.pprint(stats[\"strategy\"][strategy][\"results_per_pair\"])\n",
    "# Get pairlist used for this backtest\n",
    "print(stats[\"strategy\"][strategy][\"pairlist\"])\n",
    "# Get market change (average change of all pairs from start to end of the backtest period)\n",
    "print(stats[\"strategy\"][strategy][\"market_change\"])\n",
    "# Maximum drawdown ()\n",
    "print(\"drawdown_start:\", stats[\"strategy\"][strategy][\"drawdown_start\"])\n",
    "print(\"drawdown_end:  \", stats[\"strategy\"][strategy][\"drawdown_end\"])\n",
    "\n",
    "\n",
    "# Get strategy comparison (only relevant if multiple strategies were compared)\n",
    "pp.pprint(stats[\"strategy_comparison\"])"
   ]
  },
  {
   "cell_type": "markdown",
   "metadata": {},
   "source": [
    "## Analyze"
   ]
  },
  {
   "cell_type": "code",
   "execution_count": null,
   "metadata": {
    "tags": []
   },
   "outputs": [],
   "source": [
    "# Plotting equity line (starting with 0 on day 1 and adding daily profit for each backtested day)\n",
    "\n",
    "import pandas as pd\n",
    "import plotly.express as px\n",
    "\n",
    "from freqtrade.configuration import Configuration\n",
    "from freqtrade.data.btanalysis import load_backtest_stats\n",
    "\n",
    "\n",
    "# strategy = 'SampleStrategy'\n",
    "# config = Configuration.from_files([\"user_data/config.json\"])\n",
    "# backtest_dir = config[\"user_data_dir\"] / \"backtest_results\"\n",
    "\n",
    "strategy_stats = stats[\"strategy\"][strategy]\n",
    "\n",
    "df = pd.DataFrame(columns=[\"dates\", \"equity\"], data=strategy_stats[\"daily_profit\"])\n",
    "df[\"equity_daily\"] = df[\"equity\"].cumsum()\n",
    "\n",
    "fig = px.line(df, x=\"dates\", y=\"equity_daily\")\n",
    "fig.show()"
   ]
  },
  {
   "cell_type": "code",
   "execution_count": 202,
   "metadata": {},
   "outputs": [],
   "source": [
    "# Load strategy using values set above\n",
    "from freqtrade.data.dataprovider import DataProvider\n",
    "from freqtrade.resolvers import StrategyResolver\n",
    "\n",
    "\n",
    "strategy = StrategyResolver.load_strategy(config)\n",
    "strategy.dp = DataProvider(config, None, None)\n",
    "strategy.ft_bot_start()\n",
    "\n",
    "# Generate buy/sell signals using strategy\n",
    "# df = strategy.analyze_ticker(candles, {'pair': pair})\n",
    "# df.tail()"
   ]
  }
 ],
 "metadata": {
  "file_extension": ".py",
  "kernelspec": {
   "display_name": "Python 3 (ipykernel)",
   "language": "python",
   "name": "python3"
  },
  "language_info": {
   "codemirror_mode": {
    "name": "ipython",
    "version": 3
   },
   "file_extension": ".py",
   "mimetype": "text/x-python",
   "name": "python",
   "nbconvert_exporter": "python",
   "pygments_lexer": "ipython3",
   "version": "3.12.3"
  },
  "mimetype": "text/x-python",
  "name": "python",
  "npconvert_exporter": "python",
  "pygments_lexer": "ipython3",
  "toc": {
   "base_numbering": 1,
   "nav_menu": {},
   "number_sections": true,
   "sideBar": true,
   "skip_h1_title": false,
   "title_cell": "Table of Contents",
   "title_sidebar": "Contents",
   "toc_cell": false,
   "toc_position": {},
   "toc_section_display": true,
   "toc_window_display": false
  },
  "varInspector": {
   "cols": {
    "lenName": 16,
    "lenType": 16,
    "lenVar": 40
   },
   "kernels_config": {
    "python": {
     "delete_cmd_postfix": "",
     "delete_cmd_prefix": "del ",
     "library": "var_list.py",
     "varRefreshCmd": "print(var_dic_list())"
    },
    "r": {
     "delete_cmd_postfix": ") ",
     "delete_cmd_prefix": "rm(",
     "library": "var_list.r",
     "varRefreshCmd": "cat(var_dic_list()) "
    }
   },
   "types_to_exclude": [
    "module",
    "function",
    "builtin_function_or_method",
    "instance",
    "_Feature"
   ],
   "window_display": false
  },
  "version": 3
 },
 "nbformat": 4,
 "nbformat_minor": 4
}
